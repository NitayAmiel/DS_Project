{
  "nbformat": 4,
  "nbformat_minor": 0,
  "metadata": {
    "colab": {
      "provenance": []
    },
    "kernelspec": {
      "name": "python3",
      "display_name": "Python 3"
    },
    "language_info": {
      "name": "python"
    }
  },
  "cells": [
    {
      "cell_type": "markdown",
      "source": [
        "# Code for DS maximal set"
      ],
      "metadata": {
        "id": "FAujjAnjsvip"
      }
    },
    {
      "cell_type": "markdown",
      "source": [
        "The following code was written to determine the maximal size of subset of words that has n-1 DS dimension, where the words are of size n , and the letters in every index is 1, .., k.\n",
        "\n",
        "Due complexity restrictions, the code here is executed with the case n = 3, k = 3"
      ],
      "metadata": {
        "id": "mab3t3wXl24o"
      }
    },
    {
      "cell_type": "markdown",
      "source": [
        "## Starting with 19-size set"
      ],
      "metadata": {
        "id": "FTsoe28jsjg4"
      }
    },
    {
      "cell_type": "markdown",
      "source": [
        "The following snippet is checking whether there is a subset of 19 words (27 - 8), which is DS dimension 2 (we actually already know that there exists one, it is done to show the code in different cases)."
      ],
      "metadata": {
        "id": "cm8Zf3pRlQGo"
      }
    },
    {
      "cell_type": "code",
      "execution_count": 2,
      "metadata": {
        "colab": {
          "base_uri": "https://localhost:8080/"
        },
        "id": "TqwjFu2YlKjr",
        "outputId": "b2f3fb6a-5036-4985-b273-71f5c5aa5c7c"
      },
      "outputs": [
        {
          "output_type": "stream",
          "name": "stdout",
          "text": [
            "This is an option of starting set results in DS dimension of less than 3:\n",
            "{(1, 1, 0), (2, 0, 1), (2, 1, 2), (2, 2, 1), (0, 1, 2), (1, 2, 1), (0, 2, 0), (0, 0, 0), (1, 1, 2), (1, 0, 0), (2, 0, 0), (2, 2, 0), (0, 1, 1), (2, 1, 1), (1, 2, 0), (0, 0, 2), (0, 2, 2), (1, 0, 2), (1, 1, 1)}\n"
          ]
        }
      ],
      "source": [
        "import itertools\n",
        "\n",
        "def generate_hamming_set(n,m):\n",
        "    \"\"\"Generate the full set {0,1,2}^3.\"\"\"\n",
        "    return set(itertools.product(range(n), repeat=m))\n",
        "\n",
        "def is_pseudo_cube(current_set, removed_set):\n",
        "    \"\"\"\n",
        "    Check if the remaining set contains any 3-dimensional pseudo-cube.\n",
        "    Step 1: Remove words where both neighbors (in any direction) were removed.\n",
        "    Step 2: Repeat step 1 until no more words can be removed.\n",
        "    Step 3: Return True if any words remain, False otherwise.\n",
        "    \"\"\"\n",
        "    def has_both_neighbors_removed(word):\n",
        "        \"\"\"\n",
        "        Check if a word has both neighbors removed in any index position.\n",
        "        \"\"\"\n",
        "        len1 = len(word)\n",
        "        for i in range(len1):\n",
        "            # Generate neighbors by flipping the i-th bit\n",
        "            neighbor1 = tuple(word[j] if j != i else (word[j] + 1) % 3 for j in range(len1))\n",
        "            neighbor2 = tuple(word[j] if j != i else (word[j] + 2) % 3 for j in range(len1))\n",
        "\n",
        "            if neighbor1 in removed_set and neighbor2 in removed_set:\n",
        "                return True\n",
        "        return False\n",
        "\n",
        "    # Step 1 and Step 2: Iteratively remove words with both neighbors removed\n",
        "    while True:\n",
        "        words_to_remove = {word for word in current_set if has_both_neighbors_removed(word)}\n",
        "        if not words_to_remove:\n",
        "            break  # No more words can be removed\n",
        "\n",
        "        # Move the words to be removed from the current set to the removed set\n",
        "        current_set -= words_to_remove\n",
        "        removed_set |= words_to_remove\n",
        "\n",
        "\n",
        "    # Step 3: Return True if there are remaining words, False otherwise\n",
        "    return len(current_set) > 0\n",
        "\n",
        "def main():\n",
        "    # Generate the full set {0,1,2}^3\n",
        "    full_set = generate_hamming_set(3,3)\n",
        "    # Iterate over all possible subsets of size 8\n",
        "    for removed_set in itertools.combinations(full_set, 8):\n",
        "        removed_set = set(removed_set)\n",
        "        reduced_set = full_set - removed_set\n",
        "        removed_set2 = removed_set.copy()\n",
        "        # Check if the remaining set contains any 3-dimensional pseudo-cube\n",
        "        if not is_pseudo_cube(reduced_set, removed_set):\n",
        "          print(\"This is an option of starting set results in DS dimension of less than 3:\")\n",
        "          print(full_set - removed_set2)\n",
        "          return\n",
        "\n",
        "\n",
        "if __name__ == \"__main__\":\n",
        "    main()\n"
      ]
    },
    {
      "cell_type": "markdown",
      "source": [],
      "metadata": {
        "id": "kx9-SjbmlPZZ"
      }
    },
    {
      "cell_type": "markdown",
      "source": [
        "As we can see from the output above, there is an option for set of size 19 with DS dimension less than 3"
      ],
      "metadata": {
        "id": "iF-XMiY2rexy"
      }
    },
    {
      "cell_type": "markdown",
      "source": [
        "# Starting with 20-size set"
      ],
      "metadata": {
        "id": "QS7_oLaHs3kD"
      }
    },
    {
      "cell_type": "markdown",
      "source": [
        "The following snippet is checking whether there is a subset of 20 words (27 - 7), which is DS dimension 2 ."
      ],
      "metadata": {
        "id": "n0_x31gPuM2h"
      }
    },
    {
      "cell_type": "code",
      "source": [
        "import itertools\n",
        "\n",
        "def generate_hamming_set(n,m):\n",
        "    \"\"\"Generate the full set {0,1,2}^3.\"\"\"\n",
        "    return set(itertools.product(range(n), repeat=m))\n",
        "\n",
        "def is_pseudo_cube(current_set, removed_set):\n",
        "    \"\"\"\n",
        "    Check if the remaining set contains any 3-dimensional pseudo-cube.\n",
        "    Step 1: Remove words where both neighbors (in any direction) were removed.\n",
        "    Step 2: Repeat step 1 until no more words can be removed.\n",
        "    Step 3: Return True if any words remain, False otherwise.\n",
        "    \"\"\"\n",
        "    def has_both_neighbors_removed(word):\n",
        "        \"\"\"\n",
        "        Check if a word has both neighbors removed in any index position.\n",
        "        \"\"\"\n",
        "        len1 = len(word)\n",
        "        for i in range(len1):\n",
        "            # Generate neighbors by flipping the i-th bit\n",
        "            neighbor1 = tuple(word[j] if j != i else (word[j] + 1) % 3 for j in range(len1))\n",
        "            neighbor2 = tuple(word[j] if j != i else (word[j] + 2) % 3 for j in range(len1))\n",
        "\n",
        "            if neighbor1 in removed_set and neighbor2 in removed_set:\n",
        "                return True\n",
        "        return False\n",
        "\n",
        "    # Step 1 and Step 2: Iteratively remove words with both neighbors removed\n",
        "    while True:\n",
        "        words_to_remove = {word for word in current_set if has_both_neighbors_removed(word)}\n",
        "        if not words_to_remove:\n",
        "            break  # No more words can be removed\n",
        "\n",
        "        # Move the words to be removed from the current set to the removed set\n",
        "        current_set -= words_to_remove\n",
        "        removed_set |= words_to_remove\n",
        "\n",
        "\n",
        "    # Step 3: Return True if there are remaining words, False otherwise\n",
        "    return len(current_set) > 0\n",
        "\n",
        "def main():\n",
        "    # Generate the full set {0,1,2}^3\n",
        "    full_set = generate_hamming_set(3,3)\n",
        "    # Iterate over all possible subsets of size 7\n",
        "    for removed_set in itertools.combinations(full_set, 7):\n",
        "        removed_set = set(removed_set)\n",
        "        reduced_set = full_set - removed_set\n",
        "        removed_set2 = removed_set.copy()\n",
        "        # Check if the remaining set contains any 3-dimensional pseudo-cube\n",
        "        if not is_pseudo_cube(reduced_set, removed_set):\n",
        "          print(\"This is an option of starting set results in DS dimension of less than 3:\")\n",
        "          print(full_set - removed_set2)\n",
        "          return\n",
        "    print(\"all the sets are with DS dimension 3\")\n",
        "\n",
        "if __name__ == \"__main__\":\n",
        "    main()\n"
      ],
      "metadata": {
        "colab": {
          "base_uri": "https://localhost:8080/"
        },
        "id": "hzIf66WItCH7",
        "outputId": "f4fd1ccd-004d-44cc-b4b0-96cd3aba073e"
      },
      "execution_count": 3,
      "outputs": [
        {
          "output_type": "stream",
          "name": "stdout",
          "text": [
            "all the sets are with DS dimension 3\n"
          ]
        }
      ]
    },
    {
      "cell_type": "markdown",
      "source": [
        "The outcome above fits the conjecture we raaised in the paper."
      ],
      "metadata": {
        "id": "_WvgAokkuSMC"
      }
    }
  ]
}